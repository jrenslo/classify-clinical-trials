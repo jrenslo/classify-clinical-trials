{
 "cells": [
  {
   "cell_type": "code",
   "execution_count": 1,
   "metadata": {
    "collapsed": true
   },
   "outputs": [],
   "source": [
    "x = [\"To determine the impact of dose intensity on tumor response and survival in patients with HIV-associated non-Hodgkin's lymphoma (NHL).\",\n",
    " 'HIV-infected patients are at increased risk for developing intermediate and high-grade NHL.']"
   ]
  },
  {
   "cell_type": "markdown",
   "metadata": {},
   "source": [
    "Noun chunking and the root"
   ]
  },
  {
   "cell_type": "code",
   "execution_count": 10,
   "metadata": {
    "collapsed": false
   },
   "outputs": [
    {
     "name": "stdout",
     "output_type": "stream",
     "text": [
      "To determine the impact of dose intensity on tumor response and survival in patients with HIV-associated non-Hodgkin's lymphoma (NHL).\n",
      "________________________\n",
      "impact=>the impact\n",
      "intensity=>dose intensity\n",
      "response=>tumor response\n",
      "survival=>survival\n",
      "patients=>patients\n",
      "lymphoma=>HIV-associated non-Hodgkin's lymphoma\n",
      "NHL=>NHL\n",
      "             \n",
      "HIV-infected patients are at increased risk for developing intermediate and high-grade NHL.\n",
      "________________________\n",
      "patients=>HIV-infected patients\n",
      "risk=>increased risk\n",
      "NHL=>intermediate and high-grade NHL\n",
      "             \n"
     ]
    }
   ],
   "source": [
    "import spacy\n",
    "nlp = spacy.load('en_core_web_sm')\n",
    "\n",
    "for sent in x:\n",
    "    doc = nlp(sent)\n",
    "    print(sent)\n",
    "    print(\"________________________\")\n",
    "    for token in doc.noun_chunks:\n",
    "        print(\"{}=>{}\".format(token.root.text, token.text))\n",
    "    print(\"             \")"
   ]
  },
  {
   "cell_type": "markdown",
   "metadata": {},
   "source": [
    "1-gram and lemmatization"
   ]
  },
  {
   "cell_type": "code",
   "execution_count": 13,
   "metadata": {
    "collapsed": false
   },
   "outputs": [
    {
     "name": "stdout",
     "output_type": "stream",
     "text": [
      "To determine the impact of dose intensity on tumor response and survival in patients with HIV-associated non-Hodgkin's lymphoma (NHL).\n",
      "________________________\n",
      "To=>to\n",
      "determine=>determine\n",
      "the=>the\n",
      "impact=>impact\n",
      "of=>of\n",
      "dose=>dose\n",
      "intensity=>intensity\n",
      "on=>on\n",
      "tumor=>tumor\n",
      "response=>response\n",
      "and=>and\n",
      "survival=>survival\n",
      "in=>in\n",
      "patients=>patient\n",
      "with=>with\n",
      "HIV=>hiv\n",
      "-=>-\n",
      "associated=>associate\n",
      "non=>non\n",
      "-=>-\n",
      "Hodgkin=>hodgkin\n",
      "'s=>'s\n",
      "lymphoma=>lymphoma\n",
      "(=>(\n",
      "NHL=>nhl\n",
      ")=>)\n",
      ".=>.\n",
      "             \n",
      "HIV-infected patients are at increased risk for developing intermediate and high-grade NHL.\n",
      "________________________\n",
      "HIV=>hiv\n",
      "-=>-\n",
      "infected=>infect\n",
      "patients=>patient\n",
      "are=>be\n",
      "at=>at\n",
      "increased=>increase\n",
      "risk=>risk\n",
      "for=>for\n",
      "developing=>develop\n",
      "intermediate=>intermediate\n",
      "and=>and\n",
      "high=>high\n",
      "-=>-\n",
      "grade=>grade\n",
      "NHL=>nhl\n",
      ".=>.\n",
      "             \n"
     ]
    }
   ],
   "source": [
    "for sent in x:\n",
    "    doc = nlp(sent)\n",
    "    print(sent)\n",
    "    print(\"________________________\")\n",
    "    for token in doc:\n",
    "        print(\"{} => {}\".format(token.text, token.lemma_))\n",
    "    print(\"             \")"
   ]
  },
  {
   "cell_type": "markdown",
   "metadata": {},
   "source": [
    "Stemming (SPACY doesn't provide a stemmer, so we have to use NLTK)"
   ]
  },
  {
   "cell_type": "code",
   "execution_count": 14,
   "metadata": {
    "collapsed": true
   },
   "outputs": [],
   "source": [
    "from nltk.stem import PorterStemmer\n",
    "from nltk.tokenize import sent_tokenize, word_tokenize"
   ]
  },
  {
   "cell_type": "code",
   "execution_count": 16,
   "metadata": {
    "collapsed": false
   },
   "outputs": [
    {
     "name": "stdout",
     "output_type": "stream",
     "text": [
      "To => To\n",
      "determine => determin\n",
      "the => the\n",
      "impact => impact\n",
      "of => of\n",
      "dose => dose\n",
      "intensity => intens\n",
      "on => on\n",
      "tumor => tumor\n",
      "response => respons\n",
      "and => and\n",
      "survival => surviv\n",
      "in => in\n",
      "patients => patient\n",
      "with => with\n",
      "HIV-associated => hiv-associ\n",
      "non-Hodgkin => non-hodgkin\n",
      "'s => 's\n",
      "lymphoma => lymphoma\n",
      "( => (\n",
      "NHL => nhl\n",
      ") => )\n",
      ". => .\n",
      "HIV-infected => hiv-infect\n",
      "patients => patient\n",
      "are => are\n",
      "at => at\n",
      "increased => increas\n",
      "risk => risk\n",
      "for => for\n",
      "developing => develop\n",
      "intermediate => intermedi\n",
      "and => and\n",
      "high-grade => high-grad\n",
      "NHL => nhl\n",
      ". => .\n"
     ]
    }
   ],
   "source": [
    "ps = PorterStemmer()\n",
    " \n",
    "for sent in x:\n",
    "    words = word_tokenize(sent)\n",
    "    for word in words:\n",
    "        print(word + \" => \" + ps.stem(word))"
   ]
  },
  {
   "cell_type": "code",
   "execution_count": null,
   "metadata": {
    "collapsed": true
   },
   "outputs": [],
   "source": []
  }
 ],
 "metadata": {
  "kernelspec": {
   "display_name": "Python 3",
   "language": "python",
   "name": "python3"
  },
  "language_info": {
   "codemirror_mode": {
    "name": "ipython",
    "version": 3
   },
   "file_extension": ".py",
   "mimetype": "text/x-python",
   "name": "python",
   "nbconvert_exporter": "python",
   "pygments_lexer": "ipython3",
   "version": "3.6.0"
  }
 },
 "nbformat": 4,
 "nbformat_minor": 2
}
