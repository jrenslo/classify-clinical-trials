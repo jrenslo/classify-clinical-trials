{
 "cells": [
  {
   "cell_type": "markdown",
   "metadata": {},
   "source": [
    "### Homework #4\n",
    "\n",
    "This month we learned about Cosine Similarity as it applied to a toy problem of choosing a fitting product label for a  list of product descriptions without labels. Your homework is to take the code from the cosine similarity notebook and the training_data.json and test_data.json files and use them to find the cosine similarity between them.  The files are organized as JSON serializations of an array of arrays, where each element is an array of [nct #, cluster label, condition label, trial text]. For this, use the cluster label as the label and ignore condition label.\n",
    "\n",
    "The steps you should take:\n",
    "1. Import the JSON data files\n",
    "2. Define the training data corpus (list of strings) and training data labels. You should also define your test corpus and test labels. The test labels are for reference.  Next month we will talk about methods for assessing model accuracy using these reference labels.  For now, you will treat the test data as simply data with \"unknown\" labels.\n",
    "3. Define your preprocessor & tokenization functions.\n",
    "4. Instantiate your vectorizer (from scikit learn) with these functions.\n",
    "5. Train the vectorizer and reduce your document dimensionality (the order of this depends on your choice of using method 1 or method 2 (from the cosine similarity notebook) or any other method of your choice)\n",
    "6. Transform the test corpus using the trained vectorizer.\n",
    "7. Calculate the pairwise cosine similarity between each of the test documents and training categories.\n",
    "8. Identify the most likely category matches.\n",
    "\n",
    "Some questions to ask yourself:\n",
    "1. Are my preprocessor/tokenizer functions working in a way that I agree with? There is a fair amount of wiggle room here.\n",
    "2. Is my choice of document dimensionality a smart one? Is it slow? Does it do what I think it is doing? Are there additional problems with my choice?\n",
    "3. What is my threshold for assiging category matches? Do I look at the top 5 choices, top 1 choice, top 20 choices? Why?\n",
    "\n",
    "Remember, here is how to load JSON data:\n",
    "```python\n",
    "with open('/path/to/json/data', 'rb') as infile:\n",
    "    jdata = json.load(infile)\n",
    "```"
   ]
  },
  {
   "cell_type": "code",
   "execution_count": null,
   "metadata": {
    "collapsed": true
   },
   "outputs": [],
   "source": []
  }
 ],
 "metadata": {
  "kernelspec": {
   "display_name": "Python 3",
   "language": "python",
   "name": "python3"
  },
  "language_info": {
   "codemirror_mode": {
    "name": "ipython",
    "version": 3
   },
   "file_extension": ".py",
   "mimetype": "text/x-python",
   "name": "python",
   "nbconvert_exporter": "python",
   "pygments_lexer": "ipython3",
   "version": "3.6.0"
  }
 },
 "nbformat": 4,
 "nbformat_minor": 2
}
